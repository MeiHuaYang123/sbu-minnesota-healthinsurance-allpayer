{
  "nbformat": 4,
  "nbformat_minor": 0,
  "metadata": {
    "colab": {
      "provenance": [],
      "authorship_tag": "ABX9TyNwL5bRtpP7Q1qzOOXsalGL",
      "include_colab_link": true
    },
    "kernelspec": {
      "name": "python3",
      "display_name": "Python 3"
    },
    "language_info": {
      "name": "python"
    }
  },
  "cells": [
    {
      "cell_type": "markdown",
      "metadata": {
        "id": "view-in-github",
        "colab_type": "text"
      },
      "source": [
        "<a href=\"https://colab.research.google.com/github/hantswilliams/sbu-minnesota-healthinsurance-allpayer/blob/main/scripts/analytics/Exploratory_MN_apcd_diagnoses.ipynb\" target=\"_parent\"><img src=\"https://colab.research.google.com/assets/colab-badge.svg\" alt=\"Open In Colab\"/></a>"
      ]
    },
    {
      "cell_type": "code",
      "source": [
        "import pandas as pd\n",
        "import matplotlib.pyplot as plt\n",
        "import seaborn as sns\n",
        "from scipy.stats import chi2_contingency"
      ],
      "metadata": {
        "id": "nl3t6mvSgL5x"
      },
      "execution_count": null,
      "outputs": []
    },
    {
      "cell_type": "code",
      "source": [
        "## Configure pandas to display non-exponential numbers\n",
        "pd.set_option('display.float_format', '{:.2f}'.format)"
      ],
      "metadata": {
        "id": "nA65k2c-lYuh"
      },
      "execution_count": null,
      "outputs": []
    },
    {
      "cell_type": "code",
      "source": [
        "# Load the dataset (modify the filename if needed)\n",
        "file_path = 'https://raw.githubusercontent.com/hantswilliams/sbu-minnesota-healthinsurance-allpayer/refs/heads/main/data/processed/diagnoses2021.csv'\n",
        "df = pd.read_csv(file_path)"
      ],
      "metadata": {
        "id": "edN87dTPf9Dz"
      },
      "execution_count": null,
      "outputs": []
    },
    {
      "cell_type": "code",
      "source": [
        "### 1. Understanding Diagnosis Code Distribution ###\n",
        "# Get the top 10 most common principal diagnosis codes\n",
        "top_10_diagnoses = df['principal_diagnosis_code'].value_counts().nlargest(10)\n",
        "\n",
        "# Bar Chart\n",
        "plt.figure(figsize=(12, 6))\n",
        "sns.barplot(x=top_10_diagnoses.index, y=top_10_diagnoses.values, palette=\"viridis\")\n",
        "plt.xlabel(\"Principal Diagnosis Code\")\n",
        "plt.ylabel(\"Count\")\n",
        "plt.title(\"Top 10 Most Common Diagnosis Codes\")\n",
        "plt.xticks(rotation=45)\n",
        "plt.show()"
      ],
      "metadata": {
        "id": "2P7g9Y0ngAXx"
      },
      "execution_count": null,
      "outputs": []
    },
    {
      "cell_type": "code",
      "source": [
        "### 2. Diagnosis vs. Total Paid Amount ###\n",
        "# Group by diagnosis code and calculate the mean total paid amount\n",
        "diagnosis_paid_mean = df.groupby('principal_diagnosis_code')['total_paid_amt_mean'].mean().nlargest(10)\n",
        "print(\"Top 10 Diagnoses with Highest Mean Total Paid Amount:\")\n",
        "print(diagnosis_paid_mean)\n",
        "\n",
        "# Boxplot for top 5 diagnoses\n",
        "top_10_diagnoses = diagnosis_paid_mean.index\n",
        "df_top_10 = df[df['principal_diagnosis_code'].isin(top_10_diagnoses)]\n",
        "\n",
        "plt.figure(figsize=(12, 6))\n",
        "sns.boxplot(x=\"principal_diagnosis_code\", y=\"total_paid_amt_mean\", data=df_top_10, palette=\"coolwarm\")\n",
        "plt.xlabel(\"Principal Diagnosis Code\")\n",
        "plt.ylabel(\"Total Paid Amount\")\n",
        "plt.title(\"Distribution of Total Paid Amount for Top 10 Diagnoses\")\n",
        "plt.xticks(rotation=45)\n",
        "plt.show()"
      ],
      "metadata": {
        "id": "TQhT9_vMhu1B"
      },
      "execution_count": null,
      "outputs": []
    },
    {
      "cell_type": "code",
      "execution_count": null,
      "metadata": {
        "id": "ZNgqAUoif7LF"
      },
      "outputs": [],
      "source": [
        "### 3. Diagnoses by Age Group ###\n",
        "# Create a contingency table\n",
        "contingency_table = pd.crosstab(df['age_group_name'], df['principal_diagnosis_code'])\n",
        "\n",
        "# Identify top 3 diagnoses for each age group\n",
        "top_3_by_age = df.groupby('age_group_name')['principal_diagnosis_code'].value_counts().groupby(level=0).head(3)\n",
        "print(\"Top 3 Diagnoses for Each Age Group:\")\n",
        "print(top_3_by_age)\n",
        "\n",
        "# Chi-square test\n",
        "chi2, p, dof, expected = chi2_contingency(contingency_table)\n",
        "print(f\"\\nChi-square Test Result: χ²={chi2:.2f}, p-value={p:.4f}\")\n",
        "if p < 0.05:\n",
        "    print(\"Significant difference in diagnosis distribution across age groups.\")\n",
        "else:\n",
        "    print(\"No significant difference in diagnosis distribution across age groups.\")"
      ]
    },
    {
      "cell_type": "code",
      "source": [
        "### 4. Insurer vs. Member Payment Differences ###\n",
        "# Group by diagnosis code and calculate means\n",
        "payment_means = df.groupby('principal_diagnosis_code')[['insurer_paid_amt_mean', 'member_paid_amt_mean']].mean()\n",
        "print(\"Mean Payment Differences by Diagnosis:\")\n",
        "print(payment_means)\n",
        "\n",
        "# Create a delta between insurer_paid_amt_mean and member_paid_amt_mean\n",
        "payment_means['delta'] = payment_means['insurer_paid_amt_mean'] - payment_means['member_paid_amt_mean']\n",
        "print(\"\\nMean Payment Differences with Delta:\")\n",
        "print(payment_means)\n",
        "\n",
        "# Top diagnoses with highest member out-of-pocket costs\n",
        "top_member_paid = payment_means['member_paid_amt_mean'].nlargest(5)\n",
        "print(\"\\nTop 5 Diagnoses with Highest Member Out-of-Pocket Costs:\")\n",
        "print(top_member_paid)\n",
        "\n",
        "# Top diagnoses with highest delta between insurer and member\n",
        "top_delta = payment_means['delta'].nlargest(5)\n",
        "print(\"\\nTop 5 Diagnoses with Highest Delta Between Insurer and Member:\")\n",
        "print(top_delta)\n",
        "\n",
        "# Scatter plot: Insurer Paid vs. Member Paid\n",
        "plt.figure(figsize=(10, 6))\n",
        "sns.scatterplot(x='insurer_paid_amt_mean', y='member_paid_amt_mean', data=payment_means, alpha=0.7)\n",
        "plt.xlabel(\"Insurer Paid Mean\")\n",
        "plt.ylabel(\"Member Paid Mean\")\n",
        "plt.title(\"Insurer vs. Member Payment Differences\")\n",
        "plt.show()"
      ],
      "metadata": {
        "id": "pAWyjxmFgzhv"
      },
      "execution_count": null,
      "outputs": []
    },
    {
      "cell_type": "code",
      "source": [],
      "metadata": {
        "id": "bXK8gqN7ndcl"
      },
      "execution_count": null,
      "outputs": []
    }
  ]
}